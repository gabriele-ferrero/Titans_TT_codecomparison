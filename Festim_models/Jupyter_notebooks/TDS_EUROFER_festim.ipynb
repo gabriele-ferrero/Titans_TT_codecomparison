{
 "cells": [
  {
   "cell_type": "code",
   "execution_count": 9,
   "metadata": {},
   "outputs": [],
   "source": [
    "import festim as F\n",
    "import numpy as np\n",
    "import sympy as sp\n",
    "import scipy.constants as const\n",
    "\n",
    "# TDS simulation of EUROFER for TITANS project. Run with latest festim version\n",
    "my_model = F.Simulation()"
   ]
  },
  {
   "cell_type": "code",
   "execution_count": 10,
   "metadata": {},
   "outputs": [],
   "source": [
    "vertices = np.concatenate(\n",
    "    [\n",
    "        np.linspace(0, 10e-6, num=100),\n",
    "        np.linspace(10e-6, 1e-4, num=100),\n",
    "        np.linspace(1e-4, 1e-3, num=1000),\n",
    "    ]\n",
    ")"
   ]
  },
  {
   "cell_type": "code",
   "execution_count": 11,
   "metadata": {},
   "outputs": [],
   "source": [
    "# Mesh + Par + Trap + BC\n",
    "my_model.mesh = F.MeshFromVertices(vertices)\n",
    "\n",
    "tungsten = F.Material(\n",
    "    id=1,\n",
    "    D_0=2.52e-7 / (2) ** 0.5,  # m2/s\n",
    "    E_D=0.16,  # eV\n",
    ")\n",
    "\n",
    "my_model.materials = tungsten\n",
    "\n",
    "# Parameters\n",
    "implantation_time = 3600  # s\n",
    "dwell_time = 1e3  # s\n",
    "rest_time = 3600 * 12  # s\n",
    "t_ramp = 980 + 580  # s\n",
    "start_pdown = implantation_time\n",
    "N_A_const = const.N_A\n",
    "w_atom_density = 8.59e28  # atom/m3\n",
    "implantation_temp = 673  # K\n",
    "rest_temp = 293  # K\n",
    "temperature_ramp = 1  # K/s\n",
    "start_tds = implantation_time + rest_time + dwell_time  # s\n",
    "\n",
    "# Trap definition\n",
    "trap_1 = F.Trap(\n",
    "    k_0=1e13 / 6 / w_atom_density,\n",
    "    E_k=0.16,\n",
    "    p_0=1e13,\n",
    "    E_p=0.51,\n",
    "    density=7e-4 * w_atom_density,\n",
    "    materials=tungsten,\n",
    ")\n",
    "trap_2 = F.Trap(\n",
    "    k_0=1e13 / 6 / w_atom_density,\n",
    "    E_k=0.16,\n",
    "    p_0=1e13,\n",
    "    E_p=1.27,\n",
    "    density=7.49e-7 * w_atom_density,\n",
    "    materials=tungsten,\n",
    ")\n",
    "trap_3 = F.Trap(\n",
    "    k_0=1e13 / 6 / w_atom_density,\n",
    "    E_k=0.16,\n",
    "    p_0=1e13,\n",
    "    E_p=1.65,\n",
    "    density=4.517e-6 * w_atom_density,\n",
    "    materials=tungsten,\n",
    ")\n",
    "\n",
    "my_model.traps = [trap_1, trap_2, trap_3]\n",
    "\n",
    "# Export\n",
    "\n",
    "from festim import FluxBC, k_B\n",
    "import fenics as f\n",
    "import sympy as sp\n",
    "\n",
    "\n",
    "class DissociationFlux(FluxBC):\n",
    "    \"\"\"\n",
    "    FluxBC subclass for hydrogen dissociation flux.\n",
    "    -D(T) * grad(c) * n = Kd(T) * P\n",
    "\n",
    "    Args:\n",
    "        Kd_0 (float or sp.Expr): dissociation coefficient pre-exponential\n",
    "            factor (m-2 s-1 Pa-1)\n",
    "        E_Kd (float or sp.Expr): dissociation coefficient activation\n",
    "            energy (eV)\n",
    "        P (float or sp.Expr): partial pressure of H (Pa)\n",
    "        surfaces (list or int): the surfaces of the BC\n",
    "    \"\"\"\n",
    "\n",
    "    def __init__(self, Kd_0, E_Kd, P, surfaces) -> None:\n",
    "        self.Kd_0 = Kd_0\n",
    "        self.E_Kd = E_Kd\n",
    "        self.P = P\n",
    "        super().__init__(surfaces=surfaces, field=0)\n",
    "\n",
    "    def create_form(self, T, solute):\n",
    "        Kd_0_expr = f.Expression(sp.printing.ccode(self.Kd_0), t=0, degree=1)\n",
    "        E_Kd_expr = f.Expression(sp.printing.ccode(self.E_Kd), t=0, degree=1)\n",
    "        P_expr = f.Expression(sp.printing.ccode(self.P), t=0, degree=1)\n",
    "\n",
    "        Kd = Kd_0_expr * f.exp(-E_Kd_expr / k_B / T)\n",
    "        self.form = Kd * P_expr\n",
    "        self.sub_expressions = [Kd_0_expr, E_Kd_expr, P_expr]\n",
    "\n",
    "\n",
    "my_model.boundary_conditions = [\n",
    "    DissociationFlux(\n",
    "        surfaces=[1],\n",
    "        Kd_0=1.99e-20 * (1.2e-6 * w_atom_density) ** 2,\n",
    "        E_Kd=0.27 * 2 + 0.73,\n",
    "        P=sp.Piecewise(\n",
    "            (9e4, F.t < start_pdown), (4e4, F.t < start_pdown + dwell_time), (0, True)\n",
    "        ),\n",
    "    ),\n",
    "    F.RecombinationFlux(surfaces=[1], Kr_0=1.99e-20, E_Kr=0.73, order=2),\n",
    "]\n",
    "\n",
    "t_ramp2 = 10\n",
    "my_model.T = F.Temperature(\n",
    "    value=sp.Piecewise(\n",
    "        (implantation_temp, F.t < implantation_time),\n",
    "        (\n",
    "            implantation_temp\n",
    "            - ((implantation_temp - rest_temp) / t_ramp2) * (F.t - implantation_time),\n",
    "            F.t < implantation_time + t_ramp2,\n",
    "        ),\n",
    "        (rest_temp, F.t < start_tds),\n",
    "        (rest_temp + temperature_ramp * (F.t - start_tds), F.t < start_tds + 580),\n",
    "        (rest_temp + temperature_ramp * (F.t - start_tds) - 580, True),\n",
    "    )\n",
    ")\n",
    "\n",
    "\n",
    "list_of_derived_quantities = [\n",
    "    F.TotalVolume(\"retention\", volume=1),\n",
    "    F.TotalVolume(\"1\", volume=1),\n",
    "    F.TotalVolume(\"2\", volume=1),\n",
    "    F.TotalVolume(\"3\", volume=1),\n",
    "    F.HydrogenFlux(surface=1),\n",
    "    F.AverageVolume(\"T\", volume=1),\n",
    "]\n",
    "\n",
    "derived_quantities = F.DerivedQuantities(\n",
    "    list_of_derived_quantities, filename=\"tds/derived_quantities.csv\"\n",
    ")\n",
    "\n",
    "\n",
    "my_model.exports = [derived_quantities]"
   ]
  },
  {
   "cell_type": "code",
   "execution_count": 12,
   "metadata": {},
   "outputs": [],
   "source": [
    "my_model.dt = F.Stepsize(\n",
    "    initial_value=1e-6,\n",
    "    stepsize_change_ratio=1.2,\n",
    "    dt_min=1e-10,\n",
    "    t_stop=start_tds - 1000,\n",
    "    stepsize_stop_max=1,\n",
    ")"
   ]
  },
  {
   "cell_type": "code",
   "execution_count": 13,
   "metadata": {},
   "outputs": [],
   "source": [
    "my_model.settings = F.Settings(\n",
    "    absolute_tolerance=1e11, relative_tolerance=1e-9, final_time=start_tds + t_ramp\n",
    ")"
   ]
  },
  {
   "cell_type": "code",
   "execution_count": 14,
   "metadata": {},
   "outputs": [
    {
     "name": "stdout",
     "output_type": "stream",
     "text": [
      "Defining initial values\n",
      "Defining variational problem\n",
      "Defining source terms\n",
      "Defining boundary conditions\n",
      "Time stepping...\n",
      "100.0 %        4.9e+04 s    Ellapsed time so far: 218.6 s\n"
     ]
    }
   ],
   "source": [
    "my_model.initialise()\n",
    "my_model.run()"
   ]
  },
  {
   "cell_type": "code",
   "execution_count": 15,
   "metadata": {},
   "outputs": [],
   "source": [
    "t = derived_quantities.t\n",
    "flux_left = derived_quantities.filter(fields=\"solute\", surfaces=1).data\n",
    "Temp = derived_quantities.filter(fields=\"T\", volumes=1).data\n",
    "flux_total = -np.array(flux_left)"
   ]
  },
  {
   "cell_type": "code",
   "execution_count": 16,
   "metadata": {},
   "outputs": [
    {
     "data": {
      "text/plain": [
       "Text(0.5, 0, 'Time (s)')"
      ]
     },
     "execution_count": 16,
     "metadata": {},
     "output_type": "execute_result"
    },
    {
     "data": {
      "image/png": "[encoded data removed]",
      "text/plain": [
       "<Figure size 640x480 with 1 Axes>"
      ]
     },
     "metadata": {},
     "output_type": "display_data"
    }
   ],
   "source": [
    "import matplotlib.pyplot as plt\n",
    "\n",
    "plt.plot(Temp, flux_total, linewidth=3)\n",
    "\n",
    "plt.xlim(295, 1400)\n",
    "plt.ylim(0, 4e18)\n",
    "plt.ylabel(r\"Desorption flux (m$^{-2}$ s$^{-1}$)\")\n",
    "plt.xlabel(r\"Time (s)\")\n",
    "\n",
    "plt.ylabel(r\"Desorption flux (m$^{-2}$ s$^{-1}$)\")\n",
    "plt.xlabel(r\"Time (s)\")"
   ]
  }
 ],
 "metadata": {
  "kernelspec": {
   "display_name": "Python 3 (ipykernel)",
   "language": "python",
   "name": "python3"
  },
  "language_info": {
   "codemirror_mode": {
    "name": "ipython",
    "version": 3
   },
   "file_extension": ".py",
   "mimetype": "text/x-python",
   "name": "python",
   "nbconvert_exporter": "python",
   "pygments_lexer": "ipython3",
   "version": "3.11.8"
  },
  "orig_nbformat": 4,
  "vscode": {
   "interpreter": {
    "hash": "d4d1e4263499bec80672ea0156c357c1ee493ec2b1c70f0acce89fc37c4a6abe"
   }
  }
 },
 "nbformat": 4,
 "nbformat_minor": 2
}
