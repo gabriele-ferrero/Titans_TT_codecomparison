{
 "cells": [
  {
   "cell_type": "code",
   "execution_count": 1,
   "metadata": {},
   "outputs": [
    {
     "name": "stdout",
     "output_type": "stream",
     "text": [
      "Running script at path: Festim_models/ITER2D/ITER2D.py\n",
      "Succesfully load mesh with 58734 cells\n",
      "Defining variational problem heat transfers\n",
      "Solving stationary heat equation\n",
      "Defining initial values\n",
      "Defining variational problem\n",
      "Defining source terms\n",
      "Defining boundary conditions\n",
      "Time stepping...\n",
      "100.0 %        1.0e+07 s    Ellapsed time so far: 987.4 s\n"
     ]
    },
    {
     "data": {
      "text/plain": [
       "0"
      ]
     },
     "execution_count": 1,
     "metadata": {},
     "output_type": "execute_result"
    }
   ],
   "source": [
    "import sys\n",
    "import os\n",
    "\n",
    "# Add the directory containing ITER2D.py to the system path\n",
    "current_working_directory = os.getcwd()\n",
    "if current_working_directory.endswith(\"Festim_models/Jupyter_notebooks\"):\n",
    "    os.chdir('../../')\n",
    "\n",
    "# Verify the path to ensure it's correct\n",
    "script_path = os.path.join( 'Festim_models/ITER2D/ITER2D.py')\n",
    "print(f\"Running script at path: {script_path}\")\n",
    "# Check if the file exists\n",
    "if not os.path.isfile(script_path):\n",
    "    raise FileNotFoundError(f\"The file {script_path} does not exist.\")\n",
    "\n",
    "# Run the entire script\n",
    "os.system(f'python {script_path}')"
   ]
  }
 ],
 "metadata": {
  "kernelspec": {
   "display_name": "festim-env",
   "language": "python",
   "name": "python3"
  },
  "language_info": {
   "codemirror_mode": {
    "name": "ipython",
    "version": 3
   },
   "file_extension": ".py",
   "mimetype": "text/x-python",
   "name": "python",
   "nbconvert_exporter": "python",
   "pygments_lexer": "ipython3",
   "version": "3.11.8"
  },
  "orig_nbformat": 4
 },
 "nbformat": 4,
 "nbformat_minor": 2
}
