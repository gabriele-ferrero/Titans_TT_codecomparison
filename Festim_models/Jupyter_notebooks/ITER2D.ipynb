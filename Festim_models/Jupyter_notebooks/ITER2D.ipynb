{
 "cells": [
  {
   "cell_type": "code",
   "execution_count": 1,
   "metadata": {},
   "outputs": [
    {
     "name": "stdout",
     "output_type": "stream",
     "text": [
      "/home/gabfer/Titans_TT_codecomparison\n",
      "Script path: Festim_models/ITER2D/ITER2D.py\n",
      "Succesfully load mesh with 58734 cells\n",
      "Defining variational problem heat transfers\n",
      "Solving stationary heat equation\n"
     ]
    },
    {
     "ename": "KeyboardInterrupt",
     "evalue": "",
     "output_type": "error",
     "traceback": [
      "\u001b[0;31m---------------------------------------------------------------------------\u001b[0m",
      "\u001b[0;31mKeyboardInterrupt\u001b[0m                         Traceback (most recent call last)",
      "File \u001b[0;32m~/Titans_TT_codecomparison/Festim_models/ITER2D/ITER2D.py:108\u001b[0m\n\u001b[1;32m    106\u001b[0m \u001b[38;5;66;03m# Go back to the base repo directory and then to the result directory\u001b[39;00m\n\u001b[1;32m    107\u001b[0m os\u001b[38;5;241m.\u001b[39mchdir(\u001b[38;5;124m\"\u001b[39m\u001b[38;5;124m../../graph_scripts_and_results/ITER2D\u001b[39m\u001b[38;5;124m\"\u001b[39m)\n\u001b[0;32m--> 108\u001b[0m \u001b[43mmodel\u001b[49m\u001b[38;5;241;43m.\u001b[39;49m\u001b[43minitialise\u001b[49m\u001b[43m(\u001b[49m\u001b[43m)\u001b[49m\n\u001b[1;32m    109\u001b[0m model\u001b[38;5;241m.\u001b[39mrun()\n\u001b[1;32m    110\u001b[0m os\u001b[38;5;241m.\u001b[39mchdir(original_directory)\n",
      "File \u001b[0;32m~/miniconda3/envs/festim-review-env/lib/python3.11/site-packages/festim/generic_simulation.py:252\u001b[0m, in \u001b[0;36mSimulation.initialise\u001b[0;34m(self)\u001b[0m\n\u001b[1;32m    250\u001b[0m \u001b[38;5;66;03m# Define temperature\u001b[39;00m\n\u001b[1;32m    251\u001b[0m \u001b[38;5;28;01mif\u001b[39;00m \u001b[38;5;28misinstance\u001b[39m(\u001b[38;5;28mself\u001b[39m\u001b[38;5;241m.\u001b[39mT, festim\u001b[38;5;241m.\u001b[39mHeatTransferProblem):\n\u001b[0;32m--> 252\u001b[0m     \u001b[38;5;28;43mself\u001b[39;49m\u001b[38;5;241;43m.\u001b[39;49m\u001b[43mT\u001b[49m\u001b[38;5;241;43m.\u001b[39;49m\u001b[43mcreate_functions\u001b[49m\u001b[43m(\u001b[49m\u001b[38;5;28;43mself\u001b[39;49m\u001b[38;5;241;43m.\u001b[39;49m\u001b[43mmaterials\u001b[49m\u001b[43m,\u001b[49m\u001b[43m \u001b[49m\u001b[38;5;28;43mself\u001b[39;49m\u001b[38;5;241;43m.\u001b[39;49m\u001b[43mmesh\u001b[49m\u001b[43m,\u001b[49m\u001b[43m \u001b[49m\u001b[38;5;28;43mself\u001b[39;49m\u001b[38;5;241;43m.\u001b[39;49m\u001b[43mdt\u001b[49m\u001b[43m)\u001b[49m\n\u001b[1;32m    253\u001b[0m \u001b[38;5;28;01melif\u001b[39;00m \u001b[38;5;28misinstance\u001b[39m(\u001b[38;5;28mself\u001b[39m\u001b[38;5;241m.\u001b[39mT, festim\u001b[38;5;241m.\u001b[39mTemperature):\n\u001b[1;32m    254\u001b[0m     \u001b[38;5;28mself\u001b[39m\u001b[38;5;241m.\u001b[39mT\u001b[38;5;241m.\u001b[39mcreate_functions(\u001b[38;5;28mself\u001b[39m\u001b[38;5;241m.\u001b[39mmesh)\n",
      "File \u001b[0;32m~/miniconda3/envs/festim-review-env/lib/python3.11/site-packages/festim/temperature/temperature_solver.py:107\u001b[0m, in \u001b[0;36mHeatTransferProblem.create_functions\u001b[0;34m(self, materials, mesh, dt)\u001b[0m\n\u001b[1;32m    105\u001b[0m newton_solver_prm[\u001b[38;5;124m\"\u001b[39m\u001b[38;5;124mmaximum_iterations\u001b[39m\u001b[38;5;124m\"\u001b[39m] \u001b[38;5;241m=\u001b[39m \u001b[38;5;28mself\u001b[39m\u001b[38;5;241m.\u001b[39mmaximum_iterations\n\u001b[1;32m    106\u001b[0m newton_solver_prm[\u001b[38;5;124m\"\u001b[39m\u001b[38;5;124mlinear_solver\u001b[39m\u001b[38;5;124m\"\u001b[39m] \u001b[38;5;241m=\u001b[39m \u001b[38;5;28mself\u001b[39m\u001b[38;5;241m.\u001b[39mlinear_solver\n\u001b[0;32m--> 107\u001b[0m \u001b[43msolver\u001b[49m\u001b[38;5;241;43m.\u001b[39;49m\u001b[43msolve\u001b[49m\u001b[43m(\u001b[49m\u001b[43m)\u001b[49m\n\u001b[1;32m    108\u001b[0m \u001b[38;5;28mself\u001b[39m\u001b[38;5;241m.\u001b[39mT_n\u001b[38;5;241m.\u001b[39massign(\u001b[38;5;28mself\u001b[39m\u001b[38;5;241m.\u001b[39mT)\n",
      "\u001b[0;31mKeyboardInterrupt\u001b[0m: "
     ]
    }
   ],
   "source": [
    "import sys\n",
    "import os\n",
    "\n",
    "# Add the directory containing ITER2D.py to the system path\n",
    "%cd ../../\n",
    "\n",
    "# Verify the path to ensure it's correct\n",
    "script_path = os.path.join( 'Festim_models/ITER2D/ITER2D.py')\n",
    "print(f\"Running script at path: {script_path}\")\n",
    "# Check if the file exists\n",
    "if not os.path.isfile(script_path):\n",
    "    raise FileNotFoundError(f\"The file {script_path} does not exist.\")\n",
    "\n",
    "# Run the entire script\n",
    "%run \"{script_path}\""
   ]
  }
 ],
 "metadata": {
  "kernelspec": {
   "display_name": "festim-env",
   "language": "python",
   "name": "python3"
  },
  "language_info": {
   "codemirror_mode": {
    "name": "ipython",
    "version": 3
   },
   "file_extension": ".py",
   "mimetype": "text/x-python",
   "name": "python",
   "nbconvert_exporter": "python",
   "pygments_lexer": "ipython3",
   "version": "3.11.8"
  },
  "orig_nbformat": 4
 },
 "nbformat": 4,
 "nbformat_minor": 2
}
