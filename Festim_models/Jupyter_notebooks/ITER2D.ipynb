{
 "cells": [
  {
   "cell_type": "code",
   "execution_count": 1,
   "metadata": {},
   "outputs": [
    {
     "name": "stdout",
     "output_type": "stream",
     "text": [
      "Running script at path: Festim_models/ITER2D/ITER2D.py\n",
      "Succesfully load mesh with 58734 cells\n",
      "Defining variational problem heat transfers\n",
      "Solving stationary heat equation\n"
     ]
    },
    {
     "ename": "KeyboardInterrupt",
     "evalue": "",
     "output_type": "error",
     "traceback": [
      "\u001b[0;31m---------------------------------------------------------------------------\u001b[0m",
      "\u001b[0;31mKeyboardInterrupt\u001b[0m                         Traceback (most recent call last)",
      "File \u001b[0;32m~/Titans_TT_codecomparison-1/Festim_models/ITER2D/ITER2D.py:108\u001b[0m\n\u001b[1;32m    106\u001b[0m \u001b[38;5;66;03m# Go back to the base repo directory and then to the result directory\u001b[39;00m\n\u001b[1;32m    107\u001b[0m os\u001b[38;5;241m.\u001b[39mchdir(\u001b[38;5;124m\"\u001b[39m\u001b[38;5;124m../../graph_scripts_and_results/ITER2D\u001b[39m\u001b[38;5;124m\"\u001b[39m)\n\u001b[0;32m--> 108\u001b[0m \u001b[43mmodel\u001b[49m\u001b[38;5;241;43m.\u001b[39;49m\u001b[43minitialise\u001b[49m\u001b[43m(\u001b[49m\u001b[43m)\u001b[49m\n\u001b[1;32m    109\u001b[0m model\u001b[38;5;241m.\u001b[39mrun()\n\u001b[1;32m    110\u001b[0m os\u001b[38;5;241m.\u001b[39mchdir(original_directory)\n",
      "File \u001b[0;32m~/miniconda3/envs/festim-review-env/lib/python3.11/site-packages/festim/generic_simulation.py:270\u001b[0m, in \u001b[0;36mSimulation.initialise\u001b[0;34m(self)\u001b[0m\n\u001b[1;32m    266\u001b[0m     \u001b[38;5;28;01mif\u001b[39;00m \u001b[38;5;28mself\u001b[39m\u001b[38;5;241m.\u001b[39mT\u001b[38;5;241m.\u001b[39mis_steady_state():\n\u001b[1;32m    267\u001b[0m         \u001b[38;5;66;03m# self.materials.S = project(self.materials.S, self.V_DG1)\u001b[39;00m\n\u001b[1;32m    268\u001b[0m         \u001b[38;5;28mself\u001b[39m\u001b[38;5;241m.\u001b[39mmaterials\u001b[38;5;241m.\u001b[39msolubility_as_function(\u001b[38;5;28mself\u001b[39m\u001b[38;5;241m.\u001b[39mmesh, \u001b[38;5;28mself\u001b[39m\u001b[38;5;241m.\u001b[39mT\u001b[38;5;241m.\u001b[39mT)\n\u001b[0;32m--> 270\u001b[0m \u001b[38;5;28;43mself\u001b[39;49m\u001b[38;5;241;43m.\u001b[39;49m\u001b[43mh_transport_problem\u001b[49m\u001b[38;5;241;43m.\u001b[39;49m\u001b[43minitialise\u001b[49m\u001b[43m(\u001b[49m\u001b[38;5;28;43mself\u001b[39;49m\u001b[38;5;241;43m.\u001b[39;49m\u001b[43mmesh\u001b[49m\u001b[43m,\u001b[49m\u001b[43m \u001b[49m\u001b[38;5;28;43mself\u001b[39;49m\u001b[38;5;241;43m.\u001b[39;49m\u001b[43mmaterials\u001b[49m\u001b[43m,\u001b[49m\u001b[43m \u001b[49m\u001b[38;5;28;43mself\u001b[39;49m\u001b[38;5;241;43m.\u001b[39;49m\u001b[43mdt\u001b[49m\u001b[43m)\u001b[49m\n\u001b[1;32m    272\u001b[0m \u001b[38;5;28mself\u001b[39m\u001b[38;5;241m.\u001b[39mexports\u001b[38;5;241m.\u001b[39minitialise_derived_quantities(\n\u001b[1;32m    273\u001b[0m     \u001b[38;5;28mself\u001b[39m\u001b[38;5;241m.\u001b[39mmesh\u001b[38;5;241m.\u001b[39mdx, \u001b[38;5;28mself\u001b[39m\u001b[38;5;241m.\u001b[39mmesh\u001b[38;5;241m.\u001b[39mds, \u001b[38;5;28mself\u001b[39m\u001b[38;5;241m.\u001b[39mmaterials\n\u001b[1;32m    274\u001b[0m )\n",
      "File \u001b[0;32m~/miniconda3/envs/festim-review-env/lib/python3.11/site-packages/festim/h_transport_problem.py:63\u001b[0m, in \u001b[0;36mHTransportProblem.initialise\u001b[0;34m(self, mesh, materials, dt)\u001b[0m\n\u001b[1;32m     61\u001b[0m \u001b[38;5;28mself\u001b[39m\u001b[38;5;241m.\u001b[39mattribute_flux_boundary_conditions()\n\u001b[1;32m     62\u001b[0m \u001b[38;5;66;03m# Define functions\u001b[39;00m\n\u001b[0;32m---> 63\u001b[0m \u001b[38;5;28;43mself\u001b[39;49m\u001b[38;5;241;43m.\u001b[39;49m\u001b[43mdefine_function_space\u001b[49m\u001b[43m(\u001b[49m\u001b[43mmesh\u001b[49m\u001b[43m)\u001b[49m\n\u001b[1;32m     64\u001b[0m \u001b[38;5;28mself\u001b[39m\u001b[38;5;241m.\u001b[39minitialise_concentrations()\n\u001b[1;32m     65\u001b[0m \u001b[38;5;28mself\u001b[39m\u001b[38;5;241m.\u001b[39mtraps\u001b[38;5;241m.\u001b[39mmake_traps_materials(materials)\n",
      "File \u001b[0;32m~/miniconda3/envs/festim-review-env/lib/python3.11/site-packages/festim/h_transport_problem.py:100\u001b[0m, in \u001b[0;36mHTransportProblem.define_function_space\u001b[0;34m(self, mesh)\u001b[0m\n\u001b[1;32m     96\u001b[0m     traps \u001b[38;5;241m=\u001b[39m FiniteElement(\n\u001b[1;32m     97\u001b[0m         \u001b[38;5;28mself\u001b[39m\u001b[38;5;241m.\u001b[39msettings\u001b[38;5;241m.\u001b[39mtraps_element_type, mesh\u001b[38;5;241m.\u001b[39mmesh\u001b[38;5;241m.\u001b[39mufl_cell(), order_trap\n\u001b[1;32m     98\u001b[0m     )\n\u001b[1;32m     99\u001b[0m     element \u001b[38;5;241m=\u001b[39m [solute] \u001b[38;5;241m+\u001b[39m [traps] \u001b[38;5;241m*\u001b[39m nb_traps\n\u001b[0;32m--> 100\u001b[0m     V \u001b[38;5;241m=\u001b[39m \u001b[43mFunctionSpace\u001b[49m\u001b[43m(\u001b[49m\u001b[43mmesh\u001b[49m\u001b[38;5;241;43m.\u001b[39;49m\u001b[43mmesh\u001b[49m\u001b[43m,\u001b[49m\u001b[43m \u001b[49m\u001b[43mMixedElement\u001b[49m\u001b[43m(\u001b[49m\u001b[43melement\u001b[49m\u001b[43m)\u001b[49m\u001b[43m)\u001b[49m\n\u001b[1;32m    101\u001b[0m \u001b[38;5;28mself\u001b[39m\u001b[38;5;241m.\u001b[39mV \u001b[38;5;241m=\u001b[39m V\n\u001b[1;32m    102\u001b[0m \u001b[38;5;28mself\u001b[39m\u001b[38;5;241m.\u001b[39mV_CG1 \u001b[38;5;241m=\u001b[39m FunctionSpace(mesh\u001b[38;5;241m.\u001b[39mmesh, \u001b[38;5;124m\"\u001b[39m\u001b[38;5;124mCG\u001b[39m\u001b[38;5;124m\"\u001b[39m, \u001b[38;5;241m1\u001b[39m)\n",
      "File \u001b[0;32m~/miniconda3/envs/festim-review-env/lib/python3.11/site-packages/dolfin/function/functionspace.py:31\u001b[0m, in \u001b[0;36mFunctionSpace.__init__\u001b[0;34m(self, *args, **kwargs)\u001b[0m\n\u001b[1;32m     29\u001b[0m     \u001b[38;5;28;01mpass\u001b[39;00m\n\u001b[1;32m     30\u001b[0m \u001b[38;5;28;01melif\u001b[39;00m \u001b[38;5;28mlen\u001b[39m(args) \u001b[38;5;241m==\u001b[39m \u001b[38;5;241m2\u001b[39m:\n\u001b[0;32m---> 31\u001b[0m     \u001b[38;5;28;43mself\u001b[39;49m\u001b[38;5;241;43m.\u001b[39;49m\u001b[43m_init_from_ufl\u001b[49m\u001b[43m(\u001b[49m\u001b[38;5;241;43m*\u001b[39;49m\u001b[43margs\u001b[49m\u001b[43m,\u001b[49m\u001b[43m \u001b[49m\u001b[38;5;241;43m*\u001b[39;49m\u001b[38;5;241;43m*\u001b[39;49m\u001b[43mkwargs\u001b[49m\u001b[43m)\u001b[49m\n\u001b[1;32m     32\u001b[0m \u001b[38;5;28;01melse\u001b[39;00m:\n\u001b[1;32m     33\u001b[0m     \u001b[38;5;28mself\u001b[39m\u001b[38;5;241m.\u001b[39m_init_convenience(\u001b[38;5;241m*\u001b[39margs, \u001b[38;5;241m*\u001b[39m\u001b[38;5;241m*\u001b[39mkwargs)\n",
      "File \u001b[0;32m~/miniconda3/envs/festim-review-env/lib/python3.11/site-packages/dolfin/function/functionspace.py:50\u001b[0m, in \u001b[0;36mFunctionSpace._init_from_ufl\u001b[0;34m(self, mesh, element, constrained_domain)\u001b[0m\n\u001b[1;32m     48\u001b[0m ufc_dofmap \u001b[38;5;241m=\u001b[39m cpp\u001b[38;5;241m.\u001b[39mfem\u001b[38;5;241m.\u001b[39mmake_ufc_dofmap(ufc_dofmap)\n\u001b[1;32m     49\u001b[0m \u001b[38;5;28;01mif\u001b[39;00m constrained_domain \u001b[38;5;129;01mis\u001b[39;00m \u001b[38;5;28;01mNone\u001b[39;00m:\n\u001b[0;32m---> 50\u001b[0m     dolfin_dofmap \u001b[38;5;241m=\u001b[39m \u001b[43mcpp\u001b[49m\u001b[38;5;241;43m.\u001b[39;49m\u001b[43mfem\u001b[49m\u001b[38;5;241;43m.\u001b[39;49m\u001b[43mDofMap\u001b[49m\u001b[43m(\u001b[49m\u001b[43mufc_dofmap\u001b[49m\u001b[43m,\u001b[49m\u001b[43m \u001b[49m\u001b[43mmesh\u001b[49m\u001b[43m)\u001b[49m\n\u001b[1;32m     51\u001b[0m \u001b[38;5;28;01melse\u001b[39;00m:\n\u001b[1;32m     52\u001b[0m     dolfin_dofmap \u001b[38;5;241m=\u001b[39m cpp\u001b[38;5;241m.\u001b[39mfem\u001b[38;5;241m.\u001b[39mDofMap(ufc_dofmap, mesh,\n\u001b[1;32m     53\u001b[0m                                    constrained_domain)\n",
      "\u001b[0;31mKeyboardInterrupt\u001b[0m: "
     ]
    }
   ],
   "source": [
    "import sys\n",
    "import os\n",
    "\n",
    "# Add the directory containing ITER2D.py to the system path\n",
    "current_working_directory = os.getcwd()\n",
    "if current_working_directory.endswith(\"Festim_models/Jupyter_notebooks\"):\n",
    "    os.chdir('../../')\n",
    "\n",
    "# Verify the path to ensure it's correct\n",
    "script_path = os.path.join( 'Festim_models/ITER2D/ITER2D.py')\n",
    "print(f\"Running script at path: {script_path}\")\n",
    "# Check if the file exists\n",
    "if not os.path.isfile(script_path):\n",
    "    raise FileNotFoundError(f\"The file {script_path} does not exist.\")\n",
    "\n",
    "# Run the entire script\n",
    "%run \"{script_path}\""
   ]
  }
 ],
 "metadata": {
  "kernelspec": {
   "display_name": "festim-env",
   "language": "python",
   "name": "python3"
  },
  "language_info": {
   "codemirror_mode": {
    "name": "ipython",
    "version": 3
   },
   "file_extension": ".py",
   "mimetype": "text/x-python",
   "name": "python",
   "nbconvert_exporter": "python",
   "pygments_lexer": "ipython3",
   "version": "3.11.8"
  },
  "orig_nbformat": 4
 },
 "nbformat": 4,
 "nbformat_minor": 2
}
