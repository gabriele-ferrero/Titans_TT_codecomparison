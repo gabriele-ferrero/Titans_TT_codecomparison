{
 "cells": [
  {
   "cell_type": "code",
   "execution_count": 9,
   "metadata": {},
   "outputs": [
    {
     "name": "stdout",
     "output_type": "stream",
     "text": [
      "0.5588805971259068\n",
      "0.00014958820029429342\n",
      "5.099655594311804e-06\n",
      "0.9425158430563623\n",
      "1.5404647122958176e-08\n",
      "0.9998157996673895\n"
     ]
    }
   ],
   "source": [
    "from scipy.constants import N_A as N_A_const\n",
    "import numpy as np\n",
    "\n",
    "\n",
    "def evalzeta(T,p_0,k_0,E_p,E_k,n,cm):\n",
    "    k_b=8.617333262145e-5\n",
    "    return p_0*np.exp(-E_p/(k_b*T))/(k_0*np.exp(-E_k/(k_b*T)))/n\n",
    "\n",
    "def trapfilling(T,p_0,k_0,E_p,E_k,n,cm):\n",
    "    k_b=8.617333262145e-5\n",
    "    return (p_0*np.exp(-E_p/(k_b*T))/(k_0*np.exp(-E_k/(k_b*T))*cm)+1)**(-1)\n",
    "\n",
    "cm=0.0088*N_A_const\n",
    "rho_n=6.338E28\n",
    "k_0=1.58E7/N_A_const\n",
    "E_k=0.2\n",
    "p_0=1e13\n",
    "E_p_vec=np.array([1,2,2.5])\n",
    "density=1E-3*rho_n\n",
    "T=1000\n",
    "for i,E_p in enumerate(E_p_vec):\n",
    "    print(evalzeta(T,p_0,k_0,E_p,E_k,density,cm))\n",
    "    print(trapfilling(T,p_0,k_0,E_p,E_k,density,cm))\n"
   ]
  }
 ],
 "metadata": {
  "kernelspec": {
   "display_name": "Python 3",
   "language": "python",
   "name": "python3"
  },
  "language_info": {
   "codemirror_mode": {
    "name": "ipython",
    "version": 3
   },
   "file_extension": ".py",
   "mimetype": "text/x-python",
   "name": "python",
   "nbconvert_exporter": "python",
   "pygments_lexer": "ipython3",
   "version": "3.11.4"
  }
 },
 "nbformat": 4,
 "nbformat_minor": 2
}
